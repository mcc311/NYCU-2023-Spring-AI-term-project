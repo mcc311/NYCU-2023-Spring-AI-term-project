{
 "cells": [
  {
   "cell_type": "code",
   "execution_count": 4,
   "metadata": {},
   "outputs": [],
   "source": [
    "from itertools import combinations\n",
    "import numpy as np"
   ]
  },
  {
   "cell_type": "code",
   "execution_count": 32,
   "metadata": {},
   "outputs": [],
   "source": [
    "bitmaps = []\n",
    "idx = []\n",
    "for k in map(list, combinations(range(9), 3)):\n",
    "    a = np.zeros(9)\n",
    "    a[k] = 1\n",
    "    a = a.reshape(3, 3)\n",
    "    flag = True\n",
    "    for bitmap in bitmaps:\n",
    "        for i in range(2):\n",
    "            if i == 1:\n",
    "                bitmap = np.flip(bitmap, 0)\n",
    "            for j in range(4):\n",
    "                if np.array_equal(np.rot90(a, j), bitmap):\n",
    "                    flag = False\n",
    "                    break\n",
    "    if flag:\n",
    "        bitmaps.append(a)\n",
    "        idx.append(k)"
   ]
  },
  {
   "cell_type": "code",
   "execution_count": 33,
   "metadata": {},
   "outputs": [
    {
     "data": {
      "text/plain": [
       "16"
      ]
     },
     "execution_count": 33,
     "metadata": {},
     "output_type": "execute_result"
    }
   ],
   "source": [
    "len(idx)"
   ]
  },
  {
   "cell_type": "code",
   "execution_count": 39,
   "metadata": {},
   "outputs": [
    {
     "name": "stdout",
     "output_type": "stream",
     "text": [
      "{0, 1, 2}, {0, 1, 3}, {0, 1, 4}, {0, 1, 5}, {0, 1, 6}, {0, 1, 7}, {0, 1, 8}, {0, 2, 4}, {0, 2, 6}, {0, 2, 7}, {0, 4, 5}, {0, 4, 8}, {0, 5, 7}, {1, 3, 4}, {1, 3, 5}, {1, 4, 7}, "
     ]
    }
   ],
   "source": [
    "for i in idx:\n",
    "    print(f\"{{{', '.join(map(str, i))}}}\", end=', ')"
   ]
  },
  {
   "cell_type": "code",
   "execution_count": null,
   "metadata": {},
   "outputs": [],
   "source": []
  }
 ],
 "metadata": {
  "kernelspec": {
   "display_name": "tcg",
   "language": "python",
   "name": "python3"
  },
  "language_info": {
   "codemirror_mode": {
    "name": "ipython",
    "version": 3
   },
   "file_extension": ".py",
   "mimetype": "text/x-python",
   "name": "python",
   "nbconvert_exporter": "python",
   "pygments_lexer": "ipython3",
   "version": "3.9.15"
  },
  "orig_nbformat": 4
 },
 "nbformat": 4,
 "nbformat_minor": 2
}
